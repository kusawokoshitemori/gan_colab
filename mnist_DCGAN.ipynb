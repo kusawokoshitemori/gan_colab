{
  "nbformat": 4,
  "nbformat_minor": 0,
  "metadata": {
    "colab": {
      "provenance": [],
      "authorship_tag": "ABX9TyOgGAJpiidoNtzw/xxXqEdm",
      "include_colab_link": true
    },
    "kernelspec": {
      "name": "python3",
      "display_name": "Python 3"
    },
    "language_info": {
      "name": "python"
    }
  },
  "cells": [
    {
      "cell_type": "markdown",
      "metadata": {
        "id": "view-in-github",
        "colab_type": "text"
      },
      "source": [
        "<a href=\"https://colab.research.google.com/github/kusawokoshitemori/gan_colab/blob/main/mnist_DCGAN.ipynb\" target=\"_parent\"><img src=\"https://colab.research.google.com/assets/colab-badge.svg\" alt=\"Open In Colab\"/></a>"
      ]
    },
    {
      "cell_type": "code",
      "execution_count": null,
      "metadata": {
        "id": "oTCGgenDj5gy"
      },
      "outputs": [],
      "source": [
        "import torch\n",
        "import torch.nn as nn\n",
        "import torch.optim as optim\n",
        "from torchvision import datasets, transforms\n",
        "from torchvision.utils import save_image\n",
        "import os"
      ]
    },
    {
      "cell_type": "code",
      "source": [
        "# ハイパーパラメータの設定\n",
        "EPOCHS = 50\n",
        "BATCH_SIZE = 64\n",
        "LATENT_DIM = 100 # ノイズベクトルの次元\n",
        "LR_G = 0.0002 # Generatorの学習率\n",
        "LR_D = 0.0002 # Discriminatorの学習率"
      ],
      "metadata": {
        "id": "My9TefG7j-2J"
      },
      "execution_count": null,
      "outputs": []
    },
    {
      "cell_type": "code",
      "source": [
        "# 画像の保存先ディレクトリ\n",
        "SAVE_DIR = 'generated_images'\n",
        "os.makedirs(SAVE_DIR, exist_ok=True)"
      ],
      "metadata": {
        "id": "Esy-gLOOkDOP"
      },
      "execution_count": null,
      "outputs": []
    },
    {
      "cell_type": "code",
      "source": [
        "# データの準備\n",
        "transform = transforms.Compose([\n",
        "    transforms.ToTensor(),\n",
        "    transforms.Normalize((0.5,), (0.5,)) # -1から1に正規化\n",
        "])\n",
        "train_dataset = datasets.MNIST(root='./data', train=True, download=True, transform=transform)\n",
        "train_loader = torch.utils.data.DataLoader(train_dataset, batch_size=BATCH_SIZE, shuffle=True)"
      ],
      "metadata": {
        "id": "AtcrQJC5kEl-"
      },
      "execution_count": null,
      "outputs": []
    },
    {
      "cell_type": "code",
      "source": [
        "# Generatorの定義\n",
        "class Generator(nn.Module):\n",
        "    def __init__(self, latent_dim):\n",
        "        super(Generator, self).__init__()\n",
        "        self.main = nn.Sequential(\n",
        "            # 入力: latent_dim次元のノイズ\n",
        "            nn.Linear(latent_dim, 256),\n",
        "            nn.LeakyReLU(0.2, inplace=True),\n",
        "            nn.Linear(256, 512),\n",
        "            nn.LeakyReLU(0.2, inplace=True),\n",
        "            nn.Linear(512, 1024),\n",
        "            nn.LeakyReLU(0.2, inplace=True),\n",
        "            nn.Linear(1024, 28 * 28), # MNIST画像のサイズ\n",
        "            nn.Tanh() # 出力を-1から1にクリップ\n",
        "        )\n",
        "\n",
        "    def forward(self, input):\n",
        "        return self.main(input).view(-1, 1, 28, 28) # 1チャンネルの28x28画像にreshape"
      ],
      "metadata": {
        "id": "AzTpILyxkFG7"
      },
      "execution_count": null,
      "outputs": []
    },
    {
      "cell_type": "code",
      "source": [
        "# Discriminatorの定義\n",
        "class Discriminator(nn.Module):\n",
        "    def __init__(self):\n",
        "        super(Discriminator, self).__init__()\n",
        "        self.main = nn.Sequential(\n",
        "            # 入力: 1チャンネルの28x28画像\n",
        "            nn.Linear(28 * 28, 512),\n",
        "            nn.LeakyReLU(0.2, inplace=True),\n",
        "            nn.Linear(512, 256),\n",
        "            nn.LeakyReLU(0.2, inplace=True),\n",
        "            nn.Linear(256, 1),\n",
        "            nn.Sigmoid() # 0から1の確率を出力\n",
        "        )\n",
        "\n",
        "    def forward(self, input):\n",
        "        return self.main(input.view(-1, 28 * 28))"
      ],
      "metadata": {
        "id": "bmPTyfCIkHFg"
      },
      "execution_count": null,
      "outputs": []
    },
    {
      "cell_type": "code",
      "source": [
        "# モデルのインスタンス化\n",
        "device = torch.device(\"cuda\" if torch.cuda.is_available() else \"cpu\")\n",
        "generator = Generator(LATENT_DIM).to(device)\n",
        "discriminator = Discriminator().to(device)"
      ],
      "metadata": {
        "id": "ee5gLDh1kI_W"
      },
      "execution_count": null,
      "outputs": []
    },
    {
      "cell_type": "code",
      "source": [
        "# 損失関数とOptimizer\n",
        "criterion = nn.BCELoss() # Binary Cross Entropy Loss\n",
        "optimizer_g = optim.Adam(generator.parameters(), lr=LR_G, betas=(0.5, 0.999))\n",
        "optimizer_d = optim.Adam(discriminator.parameters(), lr=LR_D, betas=(0.5, 0.999))"
      ],
      "metadata": {
        "id": "b2okn0d8kK7u"
      },
      "execution_count": null,
      "outputs": []
    },
    {
      "cell_type": "code",
      "source": [
        "# 学習ループ\n",
        "print(\"学習を開始します...\")\n",
        "for epoch in range(EPOCHS):\n",
        "    for i, (real_images, _) in enumerate(train_loader):\n",
        "        real_images = real_images.to(device)\n",
        "        batch_size = real_images.size(0)\n",
        "\n",
        "        # Discriminatorの学習\n",
        "        discriminator.zero_grad()\n",
        "\n",
        "        # 本物画像\n",
        "        real_labels = torch.ones(batch_size, 1).to(device)\n",
        "        output_real = discriminator(real_images)\n",
        "        loss_d_real = criterion(output_real, real_labels)\n",
        "\n",
        "        # 偽物画像\n",
        "        noise = torch.randn(batch_size, LATENT_DIM).to(device)\n",
        "        fake_images = generator(noise)\n",
        "        fake_labels = torch.zeros(batch_size, 1).to(device)\n",
        "        output_fake = discriminator(fake_images.detach()) # Generatorの勾配を伝播させない\n",
        "        loss_d_fake = criterion(output_fake, fake_labels)\n",
        "\n",
        "        loss_d = loss_d_real + loss_d_fake\n",
        "        loss_d.backward()\n",
        "        optimizer_d.step()\n",
        "\n",
        "        # Generatorの学習\n",
        "        generator.zero_grad()\n",
        "        output_g = discriminator(fake_images) # Discriminatorが本物と判断するように学習\n",
        "        loss_g = criterion(output_g, real_labels) # Generatorは偽物画像を本物と誤認させたいので、本物ラベルと比較\n",
        "\n",
        "        loss_g.backward()\n",
        "        optimizer_g.step()\n",
        "\n",
        "        if (i + 1) % 100 == 0:\n",
        "            print(f\"Epoch [{epoch+1}/{EPOCHS}], Step [{i+1}/{len(train_loader)}], D_loss: {loss_d.item():.4f}, G_loss: {loss_g.item():.4f}\")\n",
        "\n",
        "    # エポックごとに画像を生成して保存\n",
        "    with torch.no_grad():\n",
        "        fixed_noise = torch.randn(64, LATENT_DIM).to(device) # 一貫したノイズで生成\n",
        "        generated_samples = generator(fixed_noise).cpu()\n",
        "        save_image(generated_samples, os.path.join(SAVE_DIR, f'epoch_{epoch+1:03d}.png'), nrow=8, normalize=True)"
      ],
      "metadata": {
        "id": "Ou0ciDFkkKtG"
      },
      "execution_count": null,
      "outputs": []
    }
  ]
}